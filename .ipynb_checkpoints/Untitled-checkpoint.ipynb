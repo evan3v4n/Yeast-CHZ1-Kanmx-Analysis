{
 "cells": [
  {
   "cell_type": "markdown",
   "id": "e57fab3c-7874-4cff-853f-98b718d18b29",
   "metadata": {},
   "source": [
    "# Reading and Summarizing FastQ Data\n",
    "\n",
    "The pipeline comprises the following steps:\n",
    "\n",
    "1. FASTQ reading and quality summary – Confirm read count, length, and quality distribution.\n",
    "2. Align reads to reference (Bowtie2) – Map sequencing reads to the S288C reference genome (which lacks the KanMX insertion) to see how CHZ1 is covered.\n",
    "3. Parse alignments for coverage and clipping – Examine alignment coverage across the CHZ1 locus and identify reads with soft-clips (which may indicate partial alignment due to the insertion).\n",
    "4. Search for KanMX-specific sequences – Scan reads for known KanMX cassette sequences (primer tails and internal motifs) to directly detect the insertion.\n",
    "5. Compile evidence and interpret – Combine the findings to determine if CHZ1 is fully replaced by KanMX, and discuss confidence in the result."
   ]
  },
  {
   "cell_type": "code",
   "execution_count": 1,
   "id": "cd2a7adf-6093-44c7-b778-80bc9075b3ac",
   "metadata": {},
   "outputs": [
    {
     "ename": "FileNotFoundError",
     "evalue": "[Errno 2] No such file or directory: 'matching.fastq'",
     "output_type": "error",
     "traceback": [
      "\u001b[31m---------------------------------------------------------------------------\u001b[39m",
      "\u001b[31mFileNotFoundError\u001b[39m                         Traceback (most recent call last)",
      "\u001b[36mCell\u001b[39m\u001b[36m \u001b[39m\u001b[32mIn[1]\u001b[39m\u001b[32m, line 10\u001b[39m\n\u001b[32m      7\u001b[39m lengths = []\n\u001b[32m      8\u001b[39m qual_sums = []\n\u001b[32m---> \u001b[39m\u001b[32m10\u001b[39m \u001b[38;5;28;01mfor\u001b[39;00m record \u001b[38;5;129;01min\u001b[39;00m \u001b[43mSeqIO\u001b[49m\u001b[43m.\u001b[49m\u001b[43mparse\u001b[49m\u001b[43m(\u001b[49m\u001b[43mfastq_path\u001b[49m\u001b[43m,\u001b[49m\u001b[43m \u001b[49m\u001b[33;43m\"\u001b[39;49m\u001b[33;43mfastq\u001b[39;49m\u001b[33;43m\"\u001b[39;49m\u001b[43m)\u001b[49m:\n\u001b[32m     11\u001b[39m     total_reads += \u001b[32m1\u001b[39m\n\u001b[32m     12\u001b[39m     seq_len = \u001b[38;5;28mlen\u001b[39m(record.seq)\n",
      "\u001b[36mFile \u001b[39m\u001b[32m~\\Documents\\GitHub\\Yeast-CHZ1-Kanmx-Analysis\\bioenv\\Lib\\site-packages\\Bio\\SeqIO\\__init__.py:626\u001b[39m, in \u001b[36mparse\u001b[39m\u001b[34m(handle, format, alphabet)\u001b[39m\n\u001b[32m    624\u001b[39m iterator_generator = _FormatToIterator.get(\u001b[38;5;28mformat\u001b[39m)\n\u001b[32m    625\u001b[39m \u001b[38;5;28;01mif\u001b[39;00m iterator_generator:\n\u001b[32m--> \u001b[39m\u001b[32m626\u001b[39m     \u001b[38;5;28;01mreturn\u001b[39;00m \u001b[43miterator_generator\u001b[49m\u001b[43m(\u001b[49m\u001b[43mhandle\u001b[49m\u001b[43m)\u001b[49m\n\u001b[32m    627\u001b[39m \u001b[38;5;28;01mif\u001b[39;00m \u001b[38;5;28mformat\u001b[39m \u001b[38;5;129;01min\u001b[39;00m AlignIO._FormatToIterator:\n\u001b[32m    628\u001b[39m     \u001b[38;5;66;03m# Use Bio.AlignIO to read in the alignments\u001b[39;00m\n\u001b[32m    629\u001b[39m     \u001b[38;5;28;01mreturn\u001b[39;00m (r \u001b[38;5;28;01mfor\u001b[39;00m alignment \u001b[38;5;129;01min\u001b[39;00m AlignIO.parse(handle, \u001b[38;5;28mformat\u001b[39m) \u001b[38;5;28;01mfor\u001b[39;00m r \u001b[38;5;129;01min\u001b[39;00m alignment)\n",
      "\u001b[36mFile \u001b[39m\u001b[32m~\\Documents\\GitHub\\Yeast-CHZ1-Kanmx-Analysis\\bioenv\\Lib\\site-packages\\Bio\\SeqIO\\QualityIO.py:1233\u001b[39m, in \u001b[36mFastqPhredIterator.__init__\u001b[39m\u001b[34m(self, source, alphabet)\u001b[39m\n\u001b[32m   1231\u001b[39m \u001b[38;5;28;01mif\u001b[39;00m alphabet \u001b[38;5;129;01mis\u001b[39;00m \u001b[38;5;129;01mnot\u001b[39;00m \u001b[38;5;28;01mNone\u001b[39;00m:\n\u001b[32m   1232\u001b[39m     \u001b[38;5;28;01mraise\u001b[39;00m \u001b[38;5;167;01mValueError\u001b[39;00m(\u001b[33m\"\u001b[39m\u001b[33mThe alphabet argument is no longer supported\u001b[39m\u001b[33m\"\u001b[39m)\n\u001b[32m-> \u001b[39m\u001b[32m1233\u001b[39m \u001b[38;5;28;43msuper\u001b[39;49m\u001b[43m(\u001b[49m\u001b[43m)\u001b[49m\u001b[43m.\u001b[49m\u001b[34;43m__init__\u001b[39;49m\u001b[43m(\u001b[49m\u001b[43msource\u001b[49m\u001b[43m)\u001b[49m\n",
      "\u001b[36mFile \u001b[39m\u001b[32m~\\Documents\\GitHub\\Yeast-CHZ1-Kanmx-Analysis\\bioenv\\Lib\\site-packages\\Bio\\SeqIO\\QualityIO.py:1027\u001b[39m, in \u001b[36mFastqIteratorAbstractBaseClass.__init__\u001b[39m\u001b[34m(self, source)\u001b[39m\n\u001b[32m   1018\u001b[39m \u001b[38;5;28;01mdef\u001b[39;00m\u001b[38;5;250m \u001b[39m\u001b[34m__init__\u001b[39m(\u001b[38;5;28mself\u001b[39m, source):\n\u001b[32m   1019\u001b[39m \u001b[38;5;250m    \u001b[39m\u001b[33;03m\"\"\"Iterate over FASTQ records as SeqRecord objects.\u001b[39;00m\n\u001b[32m   1020\u001b[39m \n\u001b[32m   1021\u001b[39m \u001b[33;03m    Arguments:\u001b[39;00m\n\u001b[32m   (...)\u001b[39m\u001b[32m   1025\u001b[39m \u001b[33;03m    attribute under the key `q_key`.\u001b[39;00m\n\u001b[32m   1026\u001b[39m \u001b[33;03m    \"\"\"\u001b[39;00m\n\u001b[32m-> \u001b[39m\u001b[32m1027\u001b[39m     \u001b[38;5;28;43msuper\u001b[39;49m\u001b[43m(\u001b[49m\u001b[43m)\u001b[49m\u001b[43m.\u001b[49m\u001b[34;43m__init__\u001b[39;49m\u001b[43m(\u001b[49m\u001b[43msource\u001b[49m\u001b[43m,\u001b[49m\u001b[43m \u001b[49m\u001b[43mfmt\u001b[49m\u001b[43m=\u001b[49m\u001b[33;43m\"\u001b[39;49m\u001b[33;43mFastq\u001b[39;49m\u001b[33;43m\"\u001b[39;49m\u001b[43m)\u001b[49m\n\u001b[32m   1028\u001b[39m     \u001b[38;5;28mself\u001b[39m.line = \u001b[38;5;28;01mNone\u001b[39;00m\n",
      "\u001b[36mFile \u001b[39m\u001b[32m~\\Documents\\GitHub\\Yeast-CHZ1-Kanmx-Analysis\\bioenv\\Lib\\site-packages\\Bio\\SeqIO\\Interfaces.py:81\u001b[39m, in \u001b[36mSequenceIterator.__init__\u001b[39m\u001b[34m(self, source, alphabet, fmt)\u001b[39m\n\u001b[32m     79\u001b[39m \u001b[38;5;28;01mif\u001b[39;00m \u001b[38;5;28misinstance\u001b[39m(source, _PathLikeTypes):\n\u001b[32m     80\u001b[39m     mode = modes[\u001b[32m0\u001b[39m]\n\u001b[32m---> \u001b[39m\u001b[32m81\u001b[39m     \u001b[38;5;28mself\u001b[39m.stream = \u001b[38;5;28;43mopen\u001b[39;49m\u001b[43m(\u001b[49m\u001b[43msource\u001b[49m\u001b[43m,\u001b[49m\u001b[43m \u001b[49m\u001b[33;43m\"\u001b[39;49m\u001b[33;43mr\u001b[39;49m\u001b[33;43m\"\u001b[39;49m\u001b[43m \u001b[49m\u001b[43m+\u001b[49m\u001b[43m \u001b[49m\u001b[43mmode\u001b[49m\u001b[43m)\u001b[49m\n\u001b[32m     82\u001b[39m \u001b[38;5;28;01melse\u001b[39;00m:\n\u001b[32m     83\u001b[39m     value = source.read(\u001b[32m0\u001b[39m)\n",
      "\u001b[31mFileNotFoundError\u001b[39m: [Errno 2] No such file or directory: 'matching.fastq'"
     ]
    }
   ],
   "source": [
    "## Reading and Summarizing FastQ Data\n",
    "\n",
    "from Bio import SeqIO\n",
    "\n",
    "fastq_path = \"matching.fq\"  # path to your FASTQ file\n",
    "total_reads = 0\n",
    "lengths = []\n",
    "qual_sums = []\n",
    "\n",
    "for record in SeqIO.parse(fastq_path, \"fastq\"):\n",
    "    total_reads += 1\n",
    "    seq_len = len(record.seq)\n",
    "    lengths.append(seq_len)\n",
    "    # Calculate average quality of this read\n",
    "    phred_scores = record.letter_annotations[\"phred_quality\"]\n",
    "    qual_sums.append(sum(phred_scores)/seq_len)\n",
    "\n",
    "print(f\"Total reads: {total_reads}\")\n",
    "if lengths:\n",
    "    print(f\"Read length: min={min(lengths)}, max={max(lengths)}, average={sum(lengths)/len(lengths):.1f}\")\n",
    "    print(f\"Mean Phred quality per read: ~{sum(qual_sums)/len(qual_sums):.1f}\")\n"
   ]
  },
  {
   "cell_type": "code",
   "execution_count": null,
   "id": "3b60d9bc-ba68-48c9-b221-d77587d204b4",
   "metadata": {},
   "outputs": [],
   "source": []
  }
 ],
 "metadata": {
  "kernelspec": {
   "display_name": "Python 3 (ipykernel)",
   "language": "python",
   "name": "python3"
  },
  "language_info": {
   "codemirror_mode": {
    "name": "ipython",
    "version": 3
   },
   "file_extension": ".py",
   "mimetype": "text/x-python",
   "name": "python",
   "nbconvert_exporter": "python",
   "pygments_lexer": "ipython3",
   "version": "3.11.0"
  }
 },
 "nbformat": 4,
 "nbformat_minor": 5
}

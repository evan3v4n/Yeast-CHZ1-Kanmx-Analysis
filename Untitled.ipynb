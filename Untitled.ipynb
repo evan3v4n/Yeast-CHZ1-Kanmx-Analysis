{
 "cells": [
  {
   "cell_type": "markdown",
   "id": "e57fab3c-7874-4cff-853f-98b718d18b29",
   "metadata": {},
   "source": [
    "# Pipeline for Detecting a KanMX Insertion at the Yeast CHZ1 (YER030W)\n",
    "\n",
    "The pipeline comprises the following steps:\n",
    "\n",
    "1. FASTQ reading and quality summary – Confirm read count, length, and quality distribution.\n",
    "2. Align reads to reference (Bowtie2) – Map sequencing reads to the S288C reference genome (which lacks the KanMX insertion) to see how CHZ1 is covered.\n",
    "3. Parse alignments for coverage and clipping – Examine alignment coverage across the CHZ1 locus and identify reads with soft-clips (which may indicate partial alignment due to the insertion).\n",
    "4. Search for KanMX-specific sequences – Scan reads for known KanMX cassette sequences (primer tails and internal motifs) to directly detect the insertion.\n",
    "5. Compile evidence and interpret – Combine the findings to determine if CHZ1 is fully replaced by KanMX, and discuss confidence in the result."
   ]
  },
  {
   "cell_type": "markdown",
   "id": "15004de5-3abc-4b8a-9ac3-42d056949845",
   "metadata": {
    "jp-MarkdownHeadingCollapsed": true
   },
   "source": [
    "##  Reading and Summarizing FASTQ Data\n",
    "\n",
    "First, we load the sequencing reads from the FASTQ file and get basic statistics: number of reads, read lengths, and quality scores. We can use Biopython’s Bio.SeqIO module to parse the FASTQ, which yields SeqRecord objects for each [read](https://biopython.org/wiki/SeqIO#:~:text=Aims). Biopython assumes Sanger FASTQ format by default (Phred+33 quality encoding)[https://biopython.org/wiki/SeqIO#:~:text=fastq,See%20also%20the%20incompatible%20%E2%80%9Cfastq]. For efficiency with large files, one could also use Bio.SeqIO.QualityIO.FastqGeneralIterator."
   ]
  },
  {
   "cell_type": "code",
   "execution_count": 5,
   "id": "cd2a7adf-6093-44c7-b778-80bc9075b3ac",
   "metadata": {},
   "outputs": [
    {
     "name": "stdout",
     "output_type": "stream",
     "text": [
      "Total reads: 265\n",
      "Read length: min=150, max=150, average=150.0\n",
      "Mean Phred quality per read: ~35.9\n"
     ]
    }
   ],
   "source": [
    "from Bio import SeqIO\n",
    "\n",
    "fastq_path = \"matching.fq\"  # path to your FASTQ file\n",
    "total_reads = 0\n",
    "lengths = []\n",
    "qual_sums = []\n",
    "\n",
    "for record in SeqIO.parse(fastq_path, \"fastq\"):\n",
    "    total_reads += 1\n",
    "    seq_len = len(record.seq)\n",
    "    lengths.append(seq_len)\n",
    "    # Calculate average quality of this read\n",
    "    phred_scores = record.letter_annotations[\"phred_quality\"]\n",
    "    qual_sums.append(sum(phred_scores)/seq_len)\n",
    "\n",
    "print(f\"Total reads: {total_reads}\")\n",
    "if lengths:\n",
    "    print(f\"Read length: min={min(lengths)}, max={max(lengths)}, average={sum(lengths)/len(lengths):.1f}\")\n",
    "    print(f\"Mean Phred quality per read: ~{sum(qual_sums)/len(qual_sums):.1f}\")"
   ]
  },
  {
   "cell_type": "markdown",
   "id": "567171d5-038e-4e63-a52c-969df35882b4",
   "metadata": {},
   "source": [
    "This indicates we have 265 reads, each 150 bp long, with high avg quality.\n",
    "\n",
    "We could examine the distribution of quality scores or length if needed. (In this case, all are 150, which is typical)\n",
    "\n",
    "__Indication:__ High quality data reads suggest the data is good for analysis. The CHZ1 Coding Region is 483 bp (153 amino acids)[https://wiki.yeastgenome.org/index.php/Chromosome_V_History#:~:text=The%20start%20site%20of%20YER030W,160%20aa%20to%20153%20aa], so reads of 150 bp will not cover it fully in one piece. We will rely on multiple reads and possibly overlapping pairs (if paired-end) to cover the locus. If CHZ1 has been knocked out, we expect anomalies in how these reads map to the reference genome at that location – which we will assess in the next steps."
   ]
  },
  {
   "cell_type": "markdown",
   "id": "58a725e4-00d0-4d3a-85b6-d792034fc6dd",
   "metadata": {},
   "source": [
    "\n",
    "## Aligning Reads to the S. cerevisiae Reference (Bowtie2)\n",
    "\n",
    "Next, we align the reads to the yeast reference genome (S288C, release R64-1-1). We use Bowtie2, an ultrafast and memory-efficient aligner for short [reads](https://gensoft.pasteur.fr/docs/bowtie2/2.1.0/#:~:text=Bowtie%202%20is%20an%20ultrafast,used%20simultaneously%20to%20achieve%20greater). Bowtie2 can be invoked from the command line; we’ll assume it’s installed on our VM. We first need the reference sequence for chromosome V (or the whole genome). We will outline using the entire reference genome.\n",
    "\n",
    "### Download the reference genome:\n",
    "\n",
    "The yeast reference can be obtained from the Saccharomyces Genome Database (SGD) or Ensembl. For example, SGD provides a FASTA file for S288C chromosomes. You can download and extract it here [http://sgd-archive.yeastgenome.org/?prefix=sequence/S288C_reference/genome_releases/](http://sgd-archive.yeastgenome.org/?prefix=sequence/S288C_reference/genome_releases/)\n",
    "\n",
    "This FASTA contains all 16 chromosomes (labeled chrI, chrII, ..., chrXVI, plus mitochondrial). We are particularly interested in chrV.\n",
    "\n",
    "We need the S288C_reference_sequence_R64-4-1_20230823.fsa file, attached in the repo.\n",
    "\n",
    "### Building the Bowtie2 Index from the reference file\n",
    "\n",
    "You can find instructions to install Bowtie2 from their page [here](https://bowtie-bio.sourceforge.net/bowtie2/manual.shtml#obtaining-bowtie-2) to start.\n",
    "\n",
    "Run this command to build a Bowtie2 index from your reference FASTA file:\n",
    "```\n",
    "bowtie2-build S288C_reference_sequence_R64-4-1_20230830.fsa yeast_R64_index\n",
    "```\n",
    "This will produce several files that Bowtie2 uses to rapidly align reads."
   ]
  },
  {
   "cell_type": "code",
   "execution_count": null,
   "id": "17152005-d28e-4345-aec6-9ec86ed2e9fb",
   "metadata": {},
   "outputs": [],
   "source": []
  }
 ],
 "metadata": {
  "kernelspec": {
   "display_name": "Python 3 (ipykernel)",
   "language": "python",
   "name": "python3"
  },
  "language_info": {
   "codemirror_mode": {
    "name": "ipython",
    "version": 3
   },
   "file_extension": ".py",
   "mimetype": "text/x-python",
   "name": "python",
   "nbconvert_exporter": "python",
   "pygments_lexer": "ipython3",
   "version": "3.11.0"
  }
 },
 "nbformat": 4,
 "nbformat_minor": 5
}
